{
  "nbformat": 4,
  "nbformat_minor": 0,
  "metadata": {
    "colab": {
      "provenance": []
    },
    "kernelspec": {
      "name": "python3",
      "display_name": "Python 3"
    },
    "language_info": {
      "name": "python"
    }
  },
  "cells": [
    {
      "cell_type": "code",
      "execution_count": 2,
      "metadata": {
        "colab": {
          "base_uri": "https://localhost:8080/"
        },
        "id": "VR4LH8KBlenG",
        "outputId": "b32e86c8-578b-460f-e55b-f1961573c68f"
      },
      "outputs": [
        {
          "output_type": "stream",
          "name": "stdout",
          "text": [
            "🤖 ChatBot: Hello! I'm ChatBot. Type 'exit' to end the conversation.\n",
            "You: hi\n",
            "🤖 ChatBot: Hello there! How can I help you?\n",
            "You: how are you\n",
            "🤖 ChatBot: I'm just a bot, but I'm doing great! What about you?\n",
            "You: help\n",
            "🤖 ChatBot: Sure! You can ask me about the weather, time, or just chat!\n",
            "You: weather\n",
            "🤖 ChatBot: I can't check the real-time weather now, but it’s always sunny in here!\n",
            "You: exit\n",
            "🤖 ChatBot: Goodbye! Have a great day!\n"
          ]
        }
      ],
      "source": [
        "# Simple rule-based chatbot\n",
        "\n",
        "def chatbot():\n",
        "    print(\"🤖 ChatBot: Hello! I'm ChatBot. Type 'exit' to end the conversation.\")\n",
        "\n",
        "    while True:\n",
        "        user_input = input(\"You: \").lower()\n",
        "\n",
        "        if user_input == 'exit':\n",
        "            print(\"🤖 ChatBot: Goodbye! Have a great day!\")\n",
        "            break\n",
        "\n",
        "        # Greetings\n",
        "        elif \"hello\" in user_input or \"hi\" in user_input:\n",
        "            print(\"🤖 ChatBot: Hello there! How can I help you?\")\n",
        "\n",
        "        # Asking about well-being\n",
        "        elif \"how are you\" in user_input:\n",
        "            print(\"🤖 ChatBot: I'm just a bot, but I'm doing great! What about you?\")\n",
        "\n",
        "        # Asking for name\n",
        "        elif \"your name\" in user_input:\n",
        "            print(\"🤖 ChatBot: I’m your friendly chatbot!\")\n",
        "\n",
        "        # Asking for help\n",
        "        elif \"help\" in user_input:\n",
        "            print(\"🤖 ChatBot: Sure! You can ask me about the weather, time, or just chat!\")\n",
        "\n",
        "        # Asking about weather\n",
        "        elif \"weather\" in user_input:\n",
        "            print(\"🤖 ChatBot: I can't check the real-time weather now, but it’s always sunny in here!\")\n",
        "\n",
        "        # Asking about time\n",
        "        elif \"time\" in user_input:\n",
        "            from datetime import datetime\n",
        "            now = datetime.now().strftime(\"%H:%M:%S\")\n",
        "            print(f\"🤖 ChatBot: The current time is {now}.\")\n",
        "\n",
        "        # Default response\n",
        "        else:\n",
        "            print(\"🤖 ChatBot: I'm not sure how to respond to that. Try asking something else.\")\n",
        "\n",
        "# Run the chatbot\n",
        "chatbot()\n"
      ]
    }
  ]
}